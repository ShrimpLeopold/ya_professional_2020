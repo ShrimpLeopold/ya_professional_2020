{
 "cells": [
  {
   "cell_type": "code",
   "execution_count": 1,
   "metadata": {},
   "outputs": [],
   "source": [
    "import pandas as pd\n",
    "import numpy as np"
   ]
  },
  {
   "cell_type": "code",
   "execution_count": 1,
   "metadata": {},
   "outputs": [],
   "source": [
    "from sklearn.preprocessing import StandardScaler\n",
    "scaler = StandardScaler()"
   ]
  },
  {
   "cell_type": "code",
   "execution_count": null,
   "metadata": {},
   "outputs": [],
   "source": [
    "from sklearn.preprocessing import LabelEncoder"
   ]
  },
  {
   "cell_type": "code",
   "execution_count": 42,
   "metadata": {},
   "outputs": [],
   "source": [
    "df = pd.read_csv('train.csv')\n",
    "test = pd.read_csv('test.csv')"
   ]
  },
  {
   "cell_type": "markdown",
   "metadata": {},
   "source": [
    "Вот датасет. Задача - по этим данным о нефтяных месторождениях предсказать, является ли месторождение прибрежным (onshore) или глубоководным (offshore)"
   ]
  },
  {
   "cell_type": "code",
   "execution_count": 275,
   "metadata": {
    "scrolled": true
   },
   "outputs": [
    {
     "data": {
      "text/html": [
       "<div>\n",
       "<style scoped>\n",
       "    .dataframe tbody tr th:only-of-type {\n",
       "        vertical-align: middle;\n",
       "    }\n",
       "\n",
       "    .dataframe tbody tr th {\n",
       "        vertical-align: top;\n",
       "    }\n",
       "\n",
       "    .dataframe thead th {\n",
       "        text-align: right;\n",
       "    }\n",
       "</style>\n",
       "<table border=\"1\" class=\"dataframe\">\n",
       "  <thead>\n",
       "    <tr style=\"text-align: right;\">\n",
       "      <th></th>\n",
       "      <th>Tectonic regime</th>\n",
       "      <th>Onshore/Offshore</th>\n",
       "      <th>Hydrocarbon type</th>\n",
       "      <th>Reservoir status</th>\n",
       "      <th>Structural setting</th>\n",
       "      <th>Depth</th>\n",
       "      <th>Period</th>\n",
       "      <th>Lithology</th>\n",
       "      <th>Gross</th>\n",
       "      <th>Netpay</th>\n",
       "      <th>Porosity</th>\n",
       "      <th>Permeability</th>\n",
       "    </tr>\n",
       "  </thead>\n",
       "  <tbody>\n",
       "    <tr>\n",
       "      <td>0</td>\n",
       "      <td>STRIKE-SLIP/TRANSPRESSION/BASEMENT-I</td>\n",
       "      <td>OFFSHORE</td>\n",
       "      <td>OIL</td>\n",
       "      <td>DEVELOPING</td>\n",
       "      <td>INVERSION/WRENCH</td>\n",
       "      <td>3520</td>\n",
       "      <td>NEOGENE</td>\n",
       "      <td>SANDSTONE</td>\n",
       "      <td>2460.0</td>\n",
       "      <td>220.0</td>\n",
       "      <td>20.0</td>\n",
       "      <td>45.0</td>\n",
       "    </tr>\n",
       "    <tr>\n",
       "      <td>1</td>\n",
       "      <td>GRAVITY/EXTENSION/EVAPORITE</td>\n",
       "      <td>OFFSHORE</td>\n",
       "      <td>OIL</td>\n",
       "      <td>MATURE PRODUCTION</td>\n",
       "      <td>SALT/PASSIVE MARGIN</td>\n",
       "      <td>9967</td>\n",
       "      <td>CRETACEOUS</td>\n",
       "      <td>LIMESTONE</td>\n",
       "      <td>427.0</td>\n",
       "      <td>160.0</td>\n",
       "      <td>19.0</td>\n",
       "      <td>175.0</td>\n",
       "    </tr>\n",
       "    <tr>\n",
       "      <td>2</td>\n",
       "      <td>GRAVITY/EXTENSION/EVAPORITE</td>\n",
       "      <td>ONSHORE</td>\n",
       "      <td>OIL</td>\n",
       "      <td>MATURE PRODUCTION</td>\n",
       "      <td>PASSIVE MARGIN</td>\n",
       "      <td>8700</td>\n",
       "      <td>CRETACEOUS</td>\n",
       "      <td>LIMESTONE</td>\n",
       "      <td>95.0</td>\n",
       "      <td>15.0</td>\n",
       "      <td>12.0</td>\n",
       "      <td>20.0</td>\n",
       "    </tr>\n",
       "    <tr>\n",
       "      <td>3</td>\n",
       "      <td>COMPRESSION</td>\n",
       "      <td>ONSHORE</td>\n",
       "      <td>OIL</td>\n",
       "      <td>DECLINING PRODUCTION</td>\n",
       "      <td>THRUST</td>\n",
       "      <td>5084</td>\n",
       "      <td>CRETACEOUS</td>\n",
       "      <td>SANDSTONE</td>\n",
       "      <td>328.0</td>\n",
       "      <td>300.0</td>\n",
       "      <td>13.0</td>\n",
       "      <td>600.0</td>\n",
       "    </tr>\n",
       "    <tr>\n",
       "      <td>4</td>\n",
       "      <td>INVERSION/COMPRESSION/EXTENSION</td>\n",
       "      <td>ONSHORE</td>\n",
       "      <td>OIL</td>\n",
       "      <td>DECLINING PRODUCTION</td>\n",
       "      <td>INVERSION/RIFT</td>\n",
       "      <td>1030</td>\n",
       "      <td>CRETACEOUS</td>\n",
       "      <td>SANDSTONE</td>\n",
       "      <td>260.0</td>\n",
       "      <td>33.0</td>\n",
       "      <td>24.0</td>\n",
       "      <td>182.0</td>\n",
       "    </tr>\n",
       "  </tbody>\n",
       "</table>\n",
       "</div>"
      ],
      "text/plain": [
       "                        Tectonic regime Onshore/Offshore Hydrocarbon type  \\\n",
       "0  STRIKE-SLIP/TRANSPRESSION/BASEMENT-I         OFFSHORE              OIL   \n",
       "1           GRAVITY/EXTENSION/EVAPORITE         OFFSHORE              OIL   \n",
       "2           GRAVITY/EXTENSION/EVAPORITE          ONSHORE              OIL   \n",
       "3                           COMPRESSION          ONSHORE              OIL   \n",
       "4       INVERSION/COMPRESSION/EXTENSION          ONSHORE              OIL   \n",
       "\n",
       "       Reservoir status   Structural setting  Depth      Period  Lithology  \\\n",
       "0            DEVELOPING     INVERSION/WRENCH   3520     NEOGENE  SANDSTONE   \n",
       "1     MATURE PRODUCTION  SALT/PASSIVE MARGIN   9967  CRETACEOUS  LIMESTONE   \n",
       "2     MATURE PRODUCTION       PASSIVE MARGIN   8700  CRETACEOUS  LIMESTONE   \n",
       "3  DECLINING PRODUCTION               THRUST   5084  CRETACEOUS  SANDSTONE   \n",
       "4  DECLINING PRODUCTION       INVERSION/RIFT   1030  CRETACEOUS  SANDSTONE   \n",
       "\n",
       "    Gross  Netpay  Porosity  Permeability  \n",
       "0  2460.0   220.0      20.0          45.0  \n",
       "1   427.0   160.0      19.0         175.0  \n",
       "2    95.0    15.0      12.0          20.0  \n",
       "3   328.0   300.0      13.0         600.0  \n",
       "4   260.0    33.0      24.0         182.0  "
      ]
     },
     "execution_count": 275,
     "metadata": {},
     "output_type": "execute_result"
    }
   ],
   "source": [
    "df.head()"
   ]
  },
  {
   "cell_type": "markdown",
   "metadata": {},
   "source": [
    "Насколько я, не геолог, смог разобраться, здесь есть:\n",
    "Tectonic regime - тектонический режим, то есть тип тектонических движений в данной местности (что-то вроде сейсмической активноости, видимо). <br>\n",
    "Hydrocarbon type - тип углеводорода. Тут все ясно, это нефть или газ, еще здесь встречается двуокись углерода и битум. <br>\n",
    "Reservoir status - статус месторождения. Т.е. разрабатывается он, законсервирован и т.д. <br>\n",
    "Structural setting - перевод: \"структурная установка\". То есть это наподобие физической структуры месторождения. <br>\n",
    "Depth - понятно, глубина залегания.<br>\n",
    "Period - это геологические периоды, когда то или иное месторождение появилось. Как известно, все углеподороды - это переваренная Землей древняя древесина, но за разное время она переварилась по-разному. <br>\n",
    "Lithology - тип камней (минералов? не знаю, как сказать грамотнее, но по сути речь идет о камнях) в данной местоности. <br>\n",
    "Gross - вероятно, объем добычи. <br>\n",
    "Porosity - пористость (породы). Важный признак, ведь, как я прочитал, породы у нефтяных и газовых месторождений имеют разные значения пористости. <br>\n",
    "Permeability - проницаемость (породы). С точки зрения физики, это способность пород пласта пропускать сквозь себя жидкость и газы при наличии перепада давления. "
   ]
  },
  {
   "cell_type": "code",
   "execution_count": 5,
   "metadata": {},
   "outputs": [],
   "source": [
    "import re\n",
    "\n",
    "ws = []\n",
    "for s in test['Period']:\n",
    "    for w in s.split('/'):\n",
    "        for ww in w.split('-'):\n",
    "            ws.append(ww)\n",
    "        \n",
    "periods = np.unique(np.array(ws))\n",
    "\n",
    "for s in df['Period']:\n",
    "    for w in s.split('/'):\n",
    "        for ww in w.split('-'):\n",
    "            ws.append(ww)\n",
    "        \n",
    "periods = np.unique(np.array(ws))"
   ]
  },
  {
   "cell_type": "markdown",
   "metadata": {},
   "source": [
    "Для начала открыл картинку из учебника биологии \"Эволюция жизни\" и закодировал геологические периоды по их порядковому номеру. Только в датасете встречались не только периоды, но и эры (а эра состоит из нескольких периодов), видимо, если невозможно определить период точнее. Поэтому эры получили некоторый вещественный числовой отрезок, в котором я давал периодом значения исходя из порядкового номера и продолжительности, а если значением в датасете был не период, а эра, то она полачала среднее значение из своего диапазона."
   ]
  },
  {
   "cell_type": "code",
   "execution_count": 6,
   "metadata": {},
   "outputs": [],
   "source": [
    "period_encoded = [ \\\n",
    "                  0, 11.7, 17.5, 29, 16, 26,\\\n",
    "                 25, 36, 12.7, 33, 15, 19, 1,\\\n",
    "                 13.6, 23]"
   ]
  },
  {
   "cell_type": "markdown",
   "metadata": {},
   "source": [
    "Разобраться в схожести остальных фичей было сложнее, да и время было ограничено. Поэтому для них применил обычный Label Encoder и был доволен результатом."
   ]
  },
  {
   "cell_type": "code",
   "execution_count": 9,
   "metadata": {},
   "outputs": [
    {
     "data": {
      "text/plain": [
       "LabelEncoder()"
      ]
     },
     "execution_count": 9,
     "metadata": {},
     "output_type": "execute_result"
    }
   ],
   "source": [
    "le_rs = LabelEncoder()\n",
    "le_rs.fit(np.unique(sorted(df['Reservoir status'].unique()) + sorted(test['Reservoir status'].unique())))"
   ]
  },
  {
   "cell_type": "code",
   "execution_count": 10,
   "metadata": {},
   "outputs": [
    {
     "data": {
      "text/plain": [
       "LabelEncoder()"
      ]
     },
     "execution_count": 10,
     "metadata": {},
     "output_type": "execute_result"
    }
   ],
   "source": [
    "ws = []\n",
    "for s in np.unique( sorted(df['Tectonic regime'].unique()) + sorted(test['Tectonic regime'].unique()) ):\n",
    "    for w in s.split('/'):\n",
    "        ws.append(w)\n",
    "        \n",
    "le_tr = LabelEncoder()\n",
    "le_tr.fit(np.unique(ws))"
   ]
  },
  {
   "cell_type": "code",
   "execution_count": 11,
   "metadata": {},
   "outputs": [
    {
     "data": {
      "text/plain": [
       "LabelEncoder()"
      ]
     },
     "execution_count": 11,
     "metadata": {},
     "output_type": "execute_result"
    }
   ],
   "source": [
    "ws = []\n",
    "for s in np.unique( sorted(df['Structural setting'].unique()) + sorted(test['Structural setting'].unique()) ):\n",
    "    for w in s.split('/'):\n",
    "        ws.append(w)\n",
    "        \n",
    "le_ss = LabelEncoder()\n",
    "le_ss.fit(np.unique(ws))"
   ]
  },
  {
   "cell_type": "code",
   "execution_count": 279,
   "metadata": {},
   "outputs": [
    {
     "data": {
      "text/plain": [
       "['CARBON DIOXIDE',\n",
       " 'GAS',\n",
       " 'GAS-CONDENSATE',\n",
       " 'METHANE HYDRATE',\n",
       " 'OIL',\n",
       " 'BITUMEN',\n",
       " 'CARBON DIOXIDE',\n",
       " 'GAS',\n",
       " 'GAS-CONDENSATE',\n",
       " 'OIL']"
      ]
     },
     "execution_count": 279,
     "metadata": {},
     "output_type": "execute_result"
    }
   ],
   "source": [
    "sorted(df['Hydrocarbon type'].unique()) + sorted(test['Hydrocarbon type'].unique())"
   ]
  },
  {
   "cell_type": "code",
   "execution_count": 12,
   "metadata": {},
   "outputs": [
    {
     "data": {
      "text/plain": [
       "LabelEncoder()"
      ]
     },
     "execution_count": 12,
     "metadata": {},
     "output_type": "execute_result"
    }
   ],
   "source": [
    "le_ht = LabelEncoder()\n",
    "le_ht.fit(np.unique( sorted(df['Hydrocarbon type'].unique()) + sorted(test['Hydrocarbon type'].unique())))"
   ]
  },
  {
   "cell_type": "code",
   "execution_count": 13,
   "metadata": {},
   "outputs": [
    {
     "data": {
      "text/plain": [
       "LabelEncoder()"
      ]
     },
     "execution_count": 13,
     "metadata": {},
     "output_type": "execute_result"
    }
   ],
   "source": [
    "le_l = LabelEncoder()\n",
    "le_l.fit(np.unique( sorted(df['Lithology'].unique()) + sorted(test['Lithology'].unique())))"
   ]
  },
  {
   "cell_type": "code",
   "execution_count": 54,
   "metadata": {},
   "outputs": [
    {
     "name": "stdout",
     "output_type": "stream",
     "text": [
      "NEOGENE\n",
      "CRETACEOUS\n",
      "CRETACEOUS\n",
      "CRETACEOUS\n",
      "CRETACEOUS\n",
      "CARBONIFEROUS\n",
      "PROTEROZOIC\n",
      "CRETACEOUS\n",
      "CARBONIFEROUS\n",
      "PERMIAN\n",
      "CRETACEOUS\n",
      "PALEOGENE-NEOGENE\n",
      "DEVONIAN\n",
      "NEOGENE\n",
      "CRETACEOUS\n",
      "JURASSIC\n",
      "NEOGENE\n",
      "CRETACEOUS\n",
      "CARBONIFEROUS\n",
      "CARBONIFEROUS\n",
      "JURASSIC\n",
      "PERMIAN\n",
      "NEOGENE\n",
      "JURASSIC\n",
      "JURASSIC\n",
      "PERMIAN\n",
      "CARBONIFEROUS\n",
      "PALEOGENE\n",
      "JURASSIC\n",
      "CRETACEOUS\n",
      "CARBONIFEROUS-PERMIAN\n",
      "CRETACEOUS-PALEOGENE\n",
      "NEOGENE\n",
      "DEVONIAN\n",
      "DEVONIAN\n",
      "JURASSIC\n",
      "JURASSIC\n",
      "CRETACEOUS\n",
      "NEOGENE\n",
      "DEVONIAN\n",
      "PERMIAN\n",
      "CRETACEOUS\n",
      "CRETACEOUS\n",
      "JURASSIC\n",
      "ORDOVICIAN\n",
      "CRETACEOUS\n",
      "NEOGENE\n",
      "DEVONIAN\n",
      "DEVONIAN\n",
      "NEOGENE\n",
      "CRETACEOUS\n",
      "CARBONIFEROUS\n",
      "TRIASSIC\n",
      "JURASSIC\n",
      "CRETACEOUS\n",
      "PALEOGENE\n",
      "JURASSIC\n",
      "JURASSIC\n",
      "CRETACEOUS\n",
      "PERMIAN\n",
      "CRETACEOUS\n",
      "PROTEROZOIC-CAMBRIAN\n",
      "PALEOGENE\n",
      "JURASSIC\n",
      "CARBONIFEROUS\n",
      "CRETACEOUS\n",
      "PALEOGENE\n",
      "PALEOGENE\n",
      "CRETACEOUS\n",
      "JURASSIC\n",
      "NEOGENE\n",
      "PALEOGENE\n",
      "PERMIAN\n",
      "TRIASSIC-JURASSIC\n",
      "CRETACEOUS\n",
      "JURASSIC\n",
      "CRETACEOUS\n",
      "CARBONIFEROUS-PERMIAN\n",
      "NEOGENE\n",
      "JURASSIC\n",
      "CRETACEOUS\n",
      "CRETACEOUS\n",
      "JURASSIC\n",
      "JURASSIC-CRETACEOUS\n",
      "TRIASSIC\n",
      "DEVONIAN\n",
      "DEVONIAN\n",
      "DEVONIAN\n",
      "CRETACEOUS\n",
      "CRETACEOUS\n",
      "JURASSIC\n",
      "CRETACEOUS\n",
      "CARBONIFEROUS\n",
      "NEOGENE\n",
      "CARBONIFEROUS\n",
      "PALEOGENE-NEOGENE\n",
      "CRETACEOUS\n",
      "JURASSIC\n",
      "CRETACEOUS\n",
      "DEVONIAN\n",
      "PALEOGENE\n",
      "DEVONIAN\n",
      "CRETACEOUS\n",
      "PALEOGENE\n",
      "DEVONIAN\n",
      "CARBONIFEROUS\n",
      "CRETACEOUS\n",
      "NEOGENE\n",
      "NEOGENE\n",
      "PROTEROZOIC\n",
      "CRETACEOUS\n",
      "CRETACEOUS\n",
      "JURASSIC-CRETACEOUS\n",
      "JURASSIC\n",
      "CRETACEOUS\n",
      "DEVONIAN\n",
      "JURASSIC\n",
      "CARBONIFEROUS-CRETACEOUS\n",
      "NEOGENE\n",
      "CRETACEOUS-PALEOGENE\n",
      "CARBONIFEROUS\n",
      "NEOGENE\n",
      "CRETACEOUS\n",
      "CARBONIFEROUS\n",
      "JURASSIC\n",
      "NEOGENE\n",
      "NEOGENE\n",
      "CARBONIFEROUS\n",
      "PERMIAN\n",
      "PERMIAN\n",
      "ARCHEAN\n",
      "NEOGENE\n",
      "TRIASSIC-JURASSIC\n",
      "CRETACEOUS\n",
      "CRETACEOUS\n",
      "PALEOGENE\n",
      "CRETACEOUS\n",
      "CRETACEOUS\n",
      "CRETACEOUS\n",
      "CARBONIFEROUS\n",
      "NEOGENE\n",
      "PERMIAN\n",
      "NEOGENE\n",
      "TRIASSIC\n",
      "JURASSIC\n",
      "CRETACEOUS\n",
      "CRETACEOUS-PALEOGENE\n",
      "PERMIAN\n",
      "PALEOGENE\n",
      "PROTEROZOIC\n",
      "PERMIAN\n",
      "PALEOGENE\n",
      "PALEOGENE\n",
      "CRETACEOUS\n",
      "JURASSIC\n",
      "NEOGENE\n",
      "PALEOGENE\n",
      "CARBONIFEROUS\n",
      "JURASSIC\n",
      "CARBONIFEROUS\n",
      "JURASSIC\n",
      "TRIASSIC\n",
      "NEOGENE\n",
      "JURASSIC\n",
      "CRETACEOUS\n",
      "NEOGENE\n",
      "CARBONIFEROUS\n",
      "CRETACEOUS\n",
      "PERMIAN\n",
      "NEOGENE\n",
      "JURASSIC\n",
      "CRETACEOUS\n",
      "CARBONIFEROUS-PERMIAN\n",
      "JURASSIC\n",
      "CRETACEOUS\n",
      "ORDOVICIAN\n",
      "NEOGENE\n",
      "TRIASSIC\n",
      "PERMIAN\n",
      "CRETACEOUS\n",
      "PROTEROZOIC\n",
      "CRETACEOUS\n",
      "PALEOGENE\n",
      "CRETACEOUS\n",
      "PALEOGENE\n",
      "CRETACEOUS\n",
      "PALEOGENE\n",
      "PALEOGENE\n",
      "CRETACEOUS\n",
      "CAMBRIAN\n",
      "CRETACEOUS\n",
      "CRETACEOUS\n",
      "JURASSIC\n",
      "JURASSIC\n",
      "NEOGENE\n",
      "NEOGENE\n",
      "CARBONIFEROUS\n",
      "CRETACEOUS\n",
      "CARBONIFEROUS\n",
      "JURASSIC\n",
      "CRETACEOUS\n",
      "NEOGENE\n",
      "PALEOGENE\n",
      "CRETACEOUS\n",
      "CRETACEOUS\n",
      "NEOGENE\n",
      "CRETACEOUS-PALEOGENE\n",
      "CRETACEOUS\n",
      "PERMIAN\n",
      "PROTEROZOIC\n",
      "PALEOGENE\n",
      "NEOGENE\n",
      "NEOGENE\n",
      "CARBONIFEROUS\n",
      "NEOGENE\n",
      "NEOGENE\n",
      "CRETACEOUS\n",
      "PERMIAN\n",
      "CRETACEOUS\n",
      "JURASSIC\n",
      "JURASSIC\n",
      "CRETACEOUS\n",
      "CRETACEOUS\n",
      "DEVONIAN\n",
      "NEOGENE\n",
      "NEOGENE\n",
      "MESOZOIC\n",
      "JURASSIC\n",
      "TRIASSIC\n",
      "CAMBRIAN-ORDOVICIAN\n",
      "NEOGENE\n",
      "TRIASSIC\n",
      "NEOGENE\n",
      "NEOGENE\n",
      "CRETACEOUS\n",
      "PALEOGENE\n",
      "CRETACEOUS-PALEOGENE\n",
      "TRIASSIC\n",
      "CRETACEOUS\n",
      "PERMIAN\n",
      "PALEOGENE\n",
      "PERMIAN\n",
      "PALEOGENE\n",
      "PALEOGENE\n",
      "CARBONIFEROUS\n",
      "CARBONIFEROUS-PERMIAN\n",
      "PALEOGENE\n",
      "NEOGENE\n",
      "CRETACEOUS\n",
      "JURASSIC\n",
      "DEVONIAN\n",
      "JURASSIC\n",
      "PERMIAN\n",
      "PERMIAN\n",
      "PERMIAN\n",
      "CRETACEOUS\n",
      "PALEOGENE\n",
      "NEOGENE\n",
      "PALEOGENE\n",
      "CRETACEOUS-PALEOGENE\n",
      "PALEOGENE\n",
      "CRETACEOUS\n",
      "NEOGENE\n",
      "CRETACEOUS\n",
      "NEOGENE\n",
      "JURASSIC\n",
      "CRETACEOUS\n",
      "PALEOGENE\n",
      "CRETACEOUS\n",
      "CRETACEOUS-PALEOGENE\n",
      "PALEOGENE\n",
      "CRETACEOUS\n",
      "JURASSIC\n",
      "PALEOZOIC\n",
      "CRETACEOUS\n",
      "CARBONIFEROUS\n",
      "PERMIAN\n",
      "JURASSIC\n",
      "PALEOGENE\n",
      "NEOGENE\n",
      "CRETACEOUS\n",
      "DEVONIAN\n",
      "NEOGENE\n",
      "PERMIAN\n",
      "PALEOGENE\n",
      "CRETACEOUS\n",
      "CARBONIFEROUS\n",
      "CRETACEOUS\n",
      "CRETACEOUS\n",
      "CRETACEOUS\n",
      "TRIASSIC\n",
      "CRETACEOUS\n",
      "CARBONIFEROUS\n",
      "CRETACEOUS-PALEOGENE\n",
      "JURASSIC\n",
      "PALEOGENE\n",
      "CRETACEOUS\n",
      "CARBONIFEROUS\n",
      "PALEOGENE\n",
      "TRIASSIC\n",
      "PALEOGENE\n",
      "CRETACEOUS\n",
      "CRETACEOUS\n",
      "PALEOGENE-NEOGENE\n",
      "NEOGENE\n",
      "CRETACEOUS\n",
      "CRETACEOUS\n",
      "JURASSIC\n",
      "CRETACEOUS\n"
     ]
    },
    {
     "name": "stderr",
     "output_type": "stream",
     "text": [
      "/Users/leonidts/anaconda3/lib/python3.6/site-packages/ipykernel_launcher.py:6: SettingWithCopyWarning: \n",
      "A value is trying to be set on a copy of a slice from a DataFrame\n",
      "\n",
      "See the caveats in the documentation: http://pandas.pydata.org/pandas-docs/stable/user_guide/indexing.html#returning-a-view-versus-a-copy\n",
      "  \n"
     ]
    }
   ],
   "source": [
    "#df = pd.read_csv('train.csv')\n",
    "for i in range(len(df)):\n",
    "    print(df['Period'][i])\n",
    "    for w in df['Period'][i].split('/'):\n",
    "        for ww in w.split('-'):\n",
    "            df['Period'][i] = (period_encoded[np.where(periods == ww)[0][0]])\n"
   ]
  },
  {
   "cell_type": "code",
   "execution_count": 325,
   "metadata": {
    "scrolled": true
   },
   "outputs": [
    {
     "data": {
      "text/plain": [
       "array(['DEVELOPING', 'MATURE PRODUCTION', 'DECLINING PRODUCTION',\n",
       "       'REJUVENATING', 'ABANDONED', 'NEARLY DEPLETED', 'UNKNOWN',\n",
       "       'PLATEAU PRODUCTION', 'UNDEVELOPED', 'CONTINUING DEVELOPMENT',\n",
       "       'SECOND PLATEAU PRODUTION', 'DEPLETED'], dtype=object)"
      ]
     },
     "execution_count": 325,
     "metadata": {},
     "output_type": "execute_result"
    }
   ],
   "source": [
    "df['Reservoir status'].unique()"
   ]
  },
  {
   "cell_type": "markdown",
   "metadata": {},
   "source": [
    "В данных было 2 подвоха. <br>\n",
    "1. В тестовых данных присустсоввали значения, которых не было в обучающих, поэтому энкодеры надо было обучать на совокупности значений из обучения и теста. <br>\n",
    "2. В нескольких столбцах было много значений, в которых было не одно значения, а перечислялось несколько через слэш. Например, иногда в типе углеводородов была не просто \"нефть\" или \"газ, а \"нефть/газ\", то есть, видимо, и то и другое. Эффективным оказалось в таких случаях суммировать закодированные значения. "
   ]
  },
  {
   "cell_type": "code",
   "execution_count": 43,
   "metadata": {
    "scrolled": true
   },
   "outputs": [
    {
     "name": "stderr",
     "output_type": "stream",
     "text": [
      "/Users/leonidts/anaconda3/lib/python3.6/site-packages/ipykernel_launcher.py:5: SettingWithCopyWarning: \n",
      "A value is trying to be set on a copy of a slice from a DataFrame\n",
      "\n",
      "See the caveats in the documentation: http://pandas.pydata.org/pandas-docs/stable/user_guide/indexing.html#returning-a-view-versus-a-copy\n",
      "  \"\"\"\n",
      "/Users/leonidts/anaconda3/lib/python3.6/site-packages/ipykernel_launcher.py:9: SettingWithCopyWarning: \n",
      "A value is trying to be set on a copy of a slice from a DataFrame\n",
      "\n",
      "See the caveats in the documentation: http://pandas.pydata.org/pandas-docs/stable/user_guide/indexing.html#returning-a-view-versus-a-copy\n",
      "  if __name__ == '__main__':\n",
      "/Users/leonidts/anaconda3/lib/python3.6/site-packages/ipykernel_launcher.py:13: SettingWithCopyWarning: \n",
      "A value is trying to be set on a copy of a slice from a DataFrame\n",
      "\n",
      "See the caveats in the documentation: http://pandas.pydata.org/pandas-docs/stable/user_guide/indexing.html#returning-a-view-versus-a-copy\n",
      "  del sys.path[0]\n",
      "/Users/leonidts/anaconda3/lib/python3.6/site-packages/ipykernel_launcher.py:17: SettingWithCopyWarning: \n",
      "A value is trying to be set on a copy of a slice from a DataFrame\n",
      "\n",
      "See the caveats in the documentation: http://pandas.pydata.org/pandas-docs/stable/user_guide/indexing.html#returning-a-view-versus-a-copy\n",
      "/Users/leonidts/anaconda3/lib/python3.6/site-packages/ipykernel_launcher.py:21: SettingWithCopyWarning: \n",
      "A value is trying to be set on a copy of a slice from a DataFrame\n",
      "\n",
      "See the caveats in the documentation: http://pandas.pydata.org/pandas-docs/stable/user_guide/indexing.html#returning-a-view-versus-a-copy\n"
     ]
    }
   ],
   "source": [
    "for i in range(len(df)):\n",
    "    new = []\n",
    "    for w in df['Tectonic regime'][i].split('/'):\n",
    "        new.append(le_tr.transform([w]))\n",
    "    df['Tectonic regime'][i] = np.sum(new)\n",
    "    new = []\n",
    "    for w in df['Structural setting'][i].split('/'):\n",
    "        new.append(le_ss.transform([w]))\n",
    "    df['Structural setting'][i] = np.sum(new)\n",
    "    new = []\n",
    "    for w in df['Hydrocarbon type'][i].split('/'):\n",
    "        new.append(le_ht.transform([w]))\n",
    "    df['Hydrocarbon type'][i] = np.sum(new)\n",
    "    new = []\n",
    "    for w in df['Lithology'][i].split('/'):\n",
    "        new.append(le_l.transform([w]))\n",
    "    df['Lithology'][i] = np.sum(new)\n",
    "    new = []\n",
    "    for w in df['Reservoir status'][i].split('/'):\n",
    "        new.append(le_rs.transform([w]))\n",
    "    df['Reservoir status'][i] = np.sum(new)\n",
    "    "
   ]
  },
  {
   "cell_type": "code",
   "execution_count": 55,
   "metadata": {},
   "outputs": [],
   "source": [
    "X = df.drop(['Onshore/Offshore'], axis=1)"
   ]
  },
  {
   "cell_type": "code",
   "execution_count": 334,
   "metadata": {},
   "outputs": [
    {
     "data": {
      "text/plain": [
       "str"
      ]
     },
     "execution_count": 334,
     "metadata": {},
     "output_type": "execute_result"
    }
   ],
   "source": [
    "type(X['Tectonic regime'][0])"
   ]
  },
  {
   "cell_type": "code",
   "execution_count": 47,
   "metadata": {},
   "outputs": [],
   "source": [
    "scaler.fit(X[['Depth', 'Gross', 'Netpay', 'Porosity', 'Permeability']])\n",
    "X[['Depth', 'Gross', 'Netpay', 'Porosity', 'Permeability']] = scaler.transform(X[['Depth', 'Gross', 'Netpay', 'Porosity', 'Permeability']])"
   ]
  },
  {
   "cell_type": "markdown",
   "metadata": {},
   "source": [
    "На данный момент я был не уверен, какой алгоритм сработает лучше, поэтому нормализовал числовые данные."
   ]
  },
  {
   "cell_type": "code",
   "execution_count": 48,
   "metadata": {},
   "outputs": [],
   "source": [
    "target = df['Onshore/Offshore']"
   ]
  },
  {
   "cell_type": "code",
   "execution_count": 49,
   "metadata": {},
   "outputs": [],
   "source": [
    "target = LabelEncoder().fit_transform(target)"
   ]
  },
  {
   "cell_type": "code",
   "execution_count": 50,
   "metadata": {},
   "outputs": [
    {
     "data": {
      "text/plain": [
       "array([0, 0, 1, 1, 1, 1, 1, 0, 1, 1, 1, 0, 1, 1, 1, 0, 0, 1, 1, 1, 0, 1,\n",
       "       1, 1, 0, 1, 1, 1, 1, 1, 1, 1, 0, 1, 1, 0, 0, 0, 0, 1, 1, 1, 1, 0,\n",
       "       1, 1, 0, 1, 1, 2, 1, 1, 1, 1, 1, 0, 1, 0, 0, 0, 1, 1, 1, 0, 1, 1,\n",
       "       1, 1, 0, 0, 0, 1, 1, 0, 1, 1, 1, 1, 1, 0, 0, 1, 0, 0, 1, 1, 1, 1,\n",
       "       0, 0, 1, 1, 1, 0, 1, 1, 1, 0, 1, 1, 1, 1, 1, 0, 1, 1, 1, 0, 1, 1,\n",
       "       2, 1, 1, 0, 1, 1, 1, 0, 1, 1, 1, 0, 1, 1, 1, 0, 0, 1, 1, 1, 1, 0,\n",
       "       0, 1, 1, 0, 1, 1, 1, 1, 1, 1, 0, 1, 0, 1, 0, 1, 1, 1, 1, 1, 0, 1,\n",
       "       1, 1, 1, 1, 1, 1, 1, 1, 0, 0, 1, 1, 1, 1, 0, 1, 1, 1, 1, 1, 1, 1,\n",
       "       1, 1, 0, 1, 1, 1, 1, 1, 0, 1, 1, 0, 1, 1, 1, 1, 0, 1, 2, 2, 1, 1,\n",
       "       1, 0, 0, 0, 1, 1, 0, 0, 1, 1, 1, 1, 1, 0, 0, 1, 1, 0, 1, 1, 1, 1,\n",
       "       0, 0, 1, 1, 0, 0, 1, 1, 2, 1, 1, 1, 1, 0, 0, 1, 0, 0, 1, 1, 1, 0,\n",
       "       0, 1, 1, 1, 1, 1, 1, 0, 1, 0, 0, 1, 0, 1, 1, 0, 1, 0, 1, 1, 1, 1,\n",
       "       0, 1, 0, 1, 1, 0, 1, 1, 0, 0, 1, 1, 1, 0, 0, 1, 1, 1, 1, 1, 1, 1,\n",
       "       1, 0, 0, 1, 1, 1, 1, 0, 1, 1, 0, 1, 0, 1, 1, 1, 1, 0, 0, 0, 1, 0,\n",
       "       1])"
      ]
     },
     "execution_count": 50,
     "metadata": {},
     "output_type": "execute_result"
    }
   ],
   "source": [
    "target"
   ]
  },
  {
   "cell_type": "code",
   "execution_count": 56,
   "metadata": {},
   "outputs": [],
   "source": [
    "for c in X.columns:\n",
    "    X[c] = X[c].astype(float)"
   ]
  },
  {
   "cell_type": "markdown",
   "metadata": {},
   "source": [
    "Самые высокие результаты показал классификатор XGBoost. Метрикой в соревновании была accuracy, поэтому опирался я именно на нее."
   ]
  },
  {
   "cell_type": "code",
   "execution_count": 57,
   "metadata": {
    "scrolled": true
   },
   "outputs": [
    {
     "name": "stdout",
     "output_type": "stream",
     "text": [
      "0.8709677419354839\n"
     ]
    }
   ],
   "source": [
    "import xgboost as xgb\n",
    "\n",
    "XGBR = xgb.XGBClassifier(max_depth=6, objective='multi:softmax', n_estimators=1000, num_class = 3)\n",
    "\n",
    "from sklearn.model_selection import cross_val_predict, StratifiedKFold\n",
    "kf = StratifiedKFold(n_splits = 5, shuffle = True)\n",
    "#predicted = cross_val_predict(XGBR, features, labels_16, cv = kf, n_jobs = 2)\n",
    "\n",
    "from sklearn.model_selection import train_test_split\n",
    "\n",
    "X_train, X_test, y_train, y_test = train_test_split(X, target, test_size=0.1)\n",
    "XGBR.fit(X_train, y_train)\n",
    "predicted = XGBR.predict(X_test)\n",
    "from sklearn.metrics import accuracy_score\n",
    "from sklearn.model_selection import cross_val_score\n",
    "print(accuracy_score(y_test, predicted))\n",
    "#print(cross_val_score(XGBR, X_test, y_test, predicted))"
   ]
  },
  {
   "cell_type": "markdown",
   "metadata": {},
   "source": [
    "Далее идет обработка теста и предсказание, так что итог подведу здесь. <br>\n",
    "Решение оказалось отличным, поскольку я получил 43/50 очков (86%)."
   ]
  },
  {
   "cell_type": "code",
   "execution_count": 58,
   "metadata": {},
   "outputs": [
    {
     "data": {
      "text/plain": [
       "array([1, 1, 1, 0, 1, 0, 1, 1, 1, 1, 1, 1, 1, 1, 1, 1, 1, 1, 1, 0, 1, 0,\n",
       "       0, 0, 1, 0, 1, 0, 1, 1, 1])"
      ]
     },
     "execution_count": 58,
     "metadata": {},
     "output_type": "execute_result"
    }
   ],
   "source": [
    "predicted"
   ]
  },
  {
   "cell_type": "code",
   "execution_count": 81,
   "metadata": {},
   "outputs": [
    {
     "name": "stdout",
     "output_type": "stream",
     "text": [
      "0.9032258064516129\n"
     ]
    }
   ],
   "source": [
    "import xgboost as xgb\n",
    "\n",
    "XGBR = xgb.XGBRegressor(max_depth=6, objective='multi:softmax', n_estimators=1000, num_class = 3)\n",
    "\n",
    "from sklearn.model_selection import cross_val_predict, StratifiedKFold\n",
    "kf = StratifiedKFold(n_splits = 5, shuffle = True)\n",
    "#predicted = cross_val_predict(XGBR, features, labels_16, cv = kf, n_jobs = 2)\n",
    "\n",
    "from sklearn.model_selection import train_test_split\n",
    "\n",
    "X_train, X_test, y_train, y_test = train_test_split(X, target, test_size=0.1)\n",
    "XGBR.fit(X_train, y_train)\n",
    "predicted = XGBR.predict(X_test)\n",
    "from sklearn.metrics import accuracy_score\n",
    "from sklearn.model_selection import cross_val_score\n",
    "print(accuracy_score(y_test, predicted))\n",
    "#print(cross_val_score(XGBR, X_test, y_test, predicted))"
   ]
  },
  {
   "cell_type": "code",
   "execution_count": 59,
   "metadata": {},
   "outputs": [],
   "source": [
    "test = pd.read_csv('test.csv')"
   ]
  },
  {
   "cell_type": "code",
   "execution_count": 60,
   "metadata": {
    "scrolled": false
   },
   "outputs": [
    {
     "name": "stdout",
     "output_type": "stream",
     "text": [
      "PERMIAN\n",
      "PERMIAN\n",
      "JURASSIC\n",
      "NEOGENE\n",
      "CARBONIFEROUS\n",
      "CRETACEOUS\n",
      "CARBONIFEROUS\n",
      "CARBONIFEROUS\n",
      "CRETACEOUS\n",
      "NEOGENE\n",
      "JURASSIC\n",
      "CRETACEOUS\n",
      "PALEOGENE\n",
      "TRIASSIC\n",
      "JURASSIC\n",
      "PERMIAN\n",
      "JURASSIC\n",
      "PALEOGENE\n",
      "JURASSIC\n",
      "CRETACEOUS\n",
      "JURASSIC\n",
      "NEOGENE\n",
      "CRETACEOUS\n",
      "NEOGENE\n",
      "DEVONIAN-CARBONIFEROUS\n",
      "CARBONIFEROUS\n",
      "CARBONIFEROUS\n",
      "CRETACEOUS\n",
      "DEVONIAN\n",
      "JURASSIC\n",
      "NEOGENE\n",
      "PALEOZOIC-CRETACEOUS\n",
      "CARBONIFEROUS-PERMIAN\n",
      "NEOGENE\n",
      "SILURIAN\n",
      "NEOGENE\n",
      "PALEOGENE\n",
      "CRETACEOUS\n",
      "CARBONIFEROUS-PERMIAN\n",
      "PERMIAN\n",
      "NEOGENE\n",
      "CRETACEOUS\n",
      "CRETACEOUS\n",
      "CARBONIFEROUS\n",
      "CRETACEOUS\n",
      "PERMIAN\n",
      "JURASSIC\n",
      "PERMIAN\n",
      "CARBONIFEROUS\n",
      "JURASSIC\n",
      "NEOGENE\n",
      "JURASSIC\n",
      "CRETACEOUS\n",
      "NEOGENE\n",
      "CRETACEOUS\n",
      "PERMIAN\n",
      "SILURIAN\n",
      "PERMIAN\n",
      "CAMBRIAN-ORDOVICIAN\n",
      "SILURIAN\n",
      "DEVONIAN\n",
      "ORDOVICIAN\n",
      "CRETACEOUS\n",
      "DEVONIAN\n",
      "JURASSIC\n",
      "NEOGENE\n",
      "PALEOGENE\n",
      "NEOGENE\n",
      "DEVONIAN\n",
      "PERMIAN\n",
      "CARBONIFEROUS\n",
      "TRIASSIC\n",
      "CRETACEOUS\n",
      "CRETACEOUS\n",
      "PERMIAN\n",
      "PROTEROZOIC\n",
      "PALEOGENE\n",
      "CRETACEOUS\n",
      "NEOGENE\n",
      "CRETACEOUS\n",
      "CRETACEOUS\n",
      "NEOGENE\n",
      "PALEOGENE\n",
      "CARBONIFEROUS\n",
      "CRETACEOUS\n",
      "CARBONIFEROUS\n",
      "CRETACEOUS\n",
      "JURASSIC\n",
      "CRETACEOUS\n",
      "PERMIAN\n",
      "CRETACEOUS\n",
      "JURASSIC\n",
      "PERMIAN\n",
      "CRETACEOUS\n",
      "CARBONIFEROUS\n",
      "DEVONIAN-PERMIAN\n",
      "PALEOGENE\n",
      "CRETACEOUS\n",
      "PERMIAN\n",
      "PALEOGENE\n",
      "JURASSIC\n",
      "PALEOGENE\n",
      "JURASSIC\n",
      "CARBONIFEROUS\n",
      "CARBONIFEROUS\n",
      "NEOGENE\n",
      "PALEOGENE\n",
      "JURASSIC\n",
      "CAMBRIAN-ORDOVICIAN/CARBONIFEROUS\n",
      "CRETACEOUS\n",
      "CRETACEOUS-PALEOGENE\n",
      "DEVONIAN\n",
      "JURASSIC\n",
      "CRETACEOUS\n",
      "ORDOVICIAN\n",
      "NEOGENE\n",
      "DEVONIAN\n",
      "PALEOGENE\n",
      "CRETACEOUS\n",
      "CRETACEOUS\n",
      "PALEOGENE\n",
      "PALEOGENE-NEOGENE\n",
      "CRETACEOUS\n",
      "PALEOGENE\n",
      "PERMIAN\n",
      "NEOGENE\n",
      "PERMIAN-TRIASSIC\n",
      "CARBONIFEROUS\n",
      "TRIASSIC-JURASSIC\n",
      "CRETACEOUS\n",
      "NEOGENE\n",
      "PALEOGENE\n",
      "CARBONIFEROUS\n"
     ]
    },
    {
     "name": "stderr",
     "output_type": "stream",
     "text": [
      "/Users/leonidts/anaconda3/lib/python3.6/site-packages/ipykernel_launcher.py:5: SettingWithCopyWarning: \n",
      "A value is trying to be set on a copy of a slice from a DataFrame\n",
      "\n",
      "See the caveats in the documentation: http://pandas.pydata.org/pandas-docs/stable/user_guide/indexing.html#returning-a-view-versus-a-copy\n",
      "  \"\"\"\n"
     ]
    }
   ],
   "source": [
    "for i in range(len(test)):\n",
    "    print(test['Period'][i])\n",
    "    for w in test['Period'][i].split('/'):\n",
    "        for ww in w.split('-'):\n",
    "            test['Period'][i] = (period_encoded[np.where(periods == ww)[0][0]])"
   ]
  },
  {
   "cell_type": "code",
   "execution_count": 61,
   "metadata": {},
   "outputs": [
    {
     "name": "stderr",
     "output_type": "stream",
     "text": [
      "/Users/leonidts/anaconda3/lib/python3.6/site-packages/ipykernel_launcher.py:5: SettingWithCopyWarning: \n",
      "A value is trying to be set on a copy of a slice from a DataFrame\n",
      "\n",
      "See the caveats in the documentation: http://pandas.pydata.org/pandas-docs/stable/user_guide/indexing.html#returning-a-view-versus-a-copy\n",
      "  \"\"\"\n",
      "/Users/leonidts/anaconda3/lib/python3.6/site-packages/ipykernel_launcher.py:9: SettingWithCopyWarning: \n",
      "A value is trying to be set on a copy of a slice from a DataFrame\n",
      "\n",
      "See the caveats in the documentation: http://pandas.pydata.org/pandas-docs/stable/user_guide/indexing.html#returning-a-view-versus-a-copy\n",
      "  if __name__ == '__main__':\n",
      "/Users/leonidts/anaconda3/lib/python3.6/site-packages/ipykernel_launcher.py:13: SettingWithCopyWarning: \n",
      "A value is trying to be set on a copy of a slice from a DataFrame\n",
      "\n",
      "See the caveats in the documentation: http://pandas.pydata.org/pandas-docs/stable/user_guide/indexing.html#returning-a-view-versus-a-copy\n",
      "  del sys.path[0]\n",
      "/Users/leonidts/anaconda3/lib/python3.6/site-packages/ipykernel_launcher.py:17: SettingWithCopyWarning: \n",
      "A value is trying to be set on a copy of a slice from a DataFrame\n",
      "\n",
      "See the caveats in the documentation: http://pandas.pydata.org/pandas-docs/stable/user_guide/indexing.html#returning-a-view-versus-a-copy\n",
      "/Users/leonidts/anaconda3/lib/python3.6/site-packages/ipykernel_launcher.py:21: SettingWithCopyWarning: \n",
      "A value is trying to be set on a copy of a slice from a DataFrame\n",
      "\n",
      "See the caveats in the documentation: http://pandas.pydata.org/pandas-docs/stable/user_guide/indexing.html#returning-a-view-versus-a-copy\n"
     ]
    }
   ],
   "source": [
    "for i in range(len(test)):\n",
    "    new = []\n",
    "    for w in test['Tectonic regime'][i].split('/'):\n",
    "        new.append(le_tr.transform([w]))\n",
    "    test['Tectonic regime'][i] = np.sum(new)\n",
    "    new = []\n",
    "    for w in test['Structural setting'][i].split('/'):\n",
    "        new.append(le_ss.transform([w]))\n",
    "    test['Structural setting'][i] = np.sum(new)\n",
    "    new = []\n",
    "    for w in test['Hydrocarbon type'][i].split('/'):\n",
    "        new.append(le_ht.transform([w]))\n",
    "    test['Hydrocarbon type'][i] = np.sum(new)\n",
    "    new = []\n",
    "    for w in test['Lithology'][i].split('/'):\n",
    "        new.append(le_l.transform([w]))\n",
    "    test['Lithology'][i] = np.sum(new)\n",
    "    new = []\n",
    "    for w in test['Reservoir status'][i].split('/'):\n",
    "        new.append(le_rs.transform([w]))\n",
    "    test['Reservoir status'][i] = np.sum(new)\n",
    "    "
   ]
  },
  {
   "cell_type": "code",
   "execution_count": 62,
   "metadata": {},
   "outputs": [],
   "source": [
    "for c in test.columns:\n",
    "    test[c] = test[c].astype(float)"
   ]
  },
  {
   "cell_type": "code",
   "execution_count": 102,
   "metadata": {},
   "outputs": [],
   "source": [
    "predicted = XGBR.predict(test)"
   ]
  },
  {
   "cell_type": "code",
   "execution_count": 103,
   "metadata": {},
   "outputs": [],
   "source": [
    "pred = pd.DataFrame(predicted)"
   ]
  },
  {
   "cell_type": "code",
   "execution_count": null,
   "metadata": {},
   "outputs": [],
   "source": []
  },
  {
   "cell_type": "code",
   "execution_count": 424,
   "metadata": {},
   "outputs": [
    {
     "data": {
      "text/plain": [
       "array([1, 0])"
      ]
     },
     "execution_count": 424,
     "metadata": {},
     "output_type": "execute_result"
    }
   ],
   "source": [
    "pred[0].unique()"
   ]
  },
  {
   "cell_type": "code",
   "execution_count": 67,
   "metadata": {},
   "outputs": [
    {
     "name": "stderr",
     "output_type": "stream",
     "text": [
      "/Users/leonidts/anaconda3/lib/python3.6/site-packages/ipykernel_launcher.py:1: SettingWithCopyWarning: \n",
      "A value is trying to be set on a copy of a slice from a DataFrame.\n",
      "Try using .loc[row_indexer,col_indexer] = value instead\n",
      "\n",
      "See the caveats in the documentation: http://pandas.pydata.org/pandas-docs/stable/user_guide/indexing.html#returning-a-view-versus-a-copy\n",
      "  \"\"\"Entry point for launching an IPython kernel.\n",
      "/Users/leonidts/anaconda3/lib/python3.6/site-packages/ipykernel_launcher.py:2: SettingWithCopyWarning: \n",
      "A value is trying to be set on a copy of a slice from a DataFrame.\n",
      "Try using .loc[row_indexer,col_indexer] = value instead\n",
      "\n",
      "See the caveats in the documentation: http://pandas.pydata.org/pandas-docs/stable/user_guide/indexing.html#returning-a-view-versus-a-copy\n",
      "  \n"
     ]
    }
   ],
   "source": [
    "pred[pred[0] == 0][0] = 'OFFSHORE'\n",
    "pred[pred[0] == 1][0] = 'ONSHORE'"
   ]
  },
  {
   "cell_type": "code",
   "execution_count": 104,
   "metadata": {},
   "outputs": [],
   "source": [
    "pred[0] = pred[0].apply(lambda x: 'OFFSHORE' if x==0 else 'ONSHORE')"
   ]
  },
  {
   "cell_type": "code",
   "execution_count": 105,
   "metadata": {},
   "outputs": [
    {
     "data": {
      "text/html": [
       "<div>\n",
       "<style scoped>\n",
       "    .dataframe tbody tr th:only-of-type {\n",
       "        vertical-align: middle;\n",
       "    }\n",
       "\n",
       "    .dataframe tbody tr th {\n",
       "        vertical-align: top;\n",
       "    }\n",
       "\n",
       "    .dataframe thead th {\n",
       "        text-align: right;\n",
       "    }\n",
       "</style>\n",
       "<table border=\"1\" class=\"dataframe\">\n",
       "  <thead>\n",
       "    <tr style=\"text-align: right;\">\n",
       "      <th></th>\n",
       "      <th>0</th>\n",
       "    </tr>\n",
       "  </thead>\n",
       "  <tbody>\n",
       "    <tr>\n",
       "      <td>0</td>\n",
       "      <td>ONSHORE</td>\n",
       "    </tr>\n",
       "    <tr>\n",
       "      <td>1</td>\n",
       "      <td>ONSHORE</td>\n",
       "    </tr>\n",
       "    <tr>\n",
       "      <td>2</td>\n",
       "      <td>ONSHORE</td>\n",
       "    </tr>\n",
       "    <tr>\n",
       "      <td>3</td>\n",
       "      <td>OFFSHORE</td>\n",
       "    </tr>\n",
       "    <tr>\n",
       "      <td>4</td>\n",
       "      <td>ONSHORE</td>\n",
       "    </tr>\n",
       "    <tr>\n",
       "      <td>...</td>\n",
       "      <td>...</td>\n",
       "    </tr>\n",
       "    <tr>\n",
       "      <td>128</td>\n",
       "      <td>OFFSHORE</td>\n",
       "    </tr>\n",
       "    <tr>\n",
       "      <td>129</td>\n",
       "      <td>ONSHORE</td>\n",
       "    </tr>\n",
       "    <tr>\n",
       "      <td>130</td>\n",
       "      <td>OFFSHORE</td>\n",
       "    </tr>\n",
       "    <tr>\n",
       "      <td>131</td>\n",
       "      <td>ONSHORE</td>\n",
       "    </tr>\n",
       "    <tr>\n",
       "      <td>132</td>\n",
       "      <td>ONSHORE</td>\n",
       "    </tr>\n",
       "  </tbody>\n",
       "</table>\n",
       "<p>133 rows × 1 columns</p>\n",
       "</div>"
      ],
      "text/plain": [
       "            0\n",
       "0     ONSHORE\n",
       "1     ONSHORE\n",
       "2     ONSHORE\n",
       "3    OFFSHORE\n",
       "4     ONSHORE\n",
       "..        ...\n",
       "128  OFFSHORE\n",
       "129   ONSHORE\n",
       "130  OFFSHORE\n",
       "131   ONSHORE\n",
       "132   ONSHORE\n",
       "\n",
       "[133 rows x 1 columns]"
      ]
     },
     "execution_count": 105,
     "metadata": {},
     "output_type": "execute_result"
    }
   ],
   "source": [
    "pred"
   ]
  },
  {
   "cell_type": "code",
   "execution_count": 106,
   "metadata": {},
   "outputs": [],
   "source": [
    "pred.to_csv('prediction.csv', index=False, header=False)"
   ]
  },
  {
   "cell_type": "code",
   "execution_count": null,
   "metadata": {},
   "outputs": [],
   "source": []
  }
 ],
 "metadata": {
  "kernelspec": {
   "display_name": "Python 3",
   "language": "python",
   "name": "python3"
  },
  "language_info": {
   "codemirror_mode": {
    "name": "ipython",
    "version": 3
   },
   "file_extension": ".py",
   "mimetype": "text/x-python",
   "name": "python",
   "nbconvert_exporter": "python",
   "pygments_lexer": "ipython3",
   "version": "3.7.1"
  }
 },
 "nbformat": 4,
 "nbformat_minor": 2
}
